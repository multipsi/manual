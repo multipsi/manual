{
 "cells": [
  {
   "cell_type": "markdown",
   "metadata": {},
   "source": [
    "# Configuration interaction\n",
    "\n",
    "Multipsi provides a very general configuration code, allowing a wide variety of CI expansions, including FullCI and truncated CI (for example CI with single and double excitations CISD). Note however that the code is mostly designed around Full CI (for use in particular in complete active space CAS methods, see following chapters) and is thus not as efficient as a dedicated CIS or CISD code."
   ]
  },
  {
   "cell_type": "markdown",
   "metadata": {},
   "source": [
    "## Full CI\n",
    "\n",
    "Let's start with a simple FullCI of water.\n",
    "\n",
    "MultiPsi relies on Veloxchem to define the molecule and basis set. For more informations about how to run Veloxchem, please go to the Veloxchem webpage.\n",
    "\n",
    "> <https://veloxchem.org>\n",
    "\n",
    "Here we will start from a simple Hartree-Fock calculation in Veloxchem:"
   ]
  },
  {
   "cell_type": "code",
   "execution_count": 1,
   "metadata": {
    "scrolled": true,
    "tags": [
     "output_scroll"
    ]
   },
   "outputs": [
    {
     "name": "stdout",
     "output_type": "stream",
     "text": [
      "* Warning * Environment variable OMP_NUM_THREADS not set.\n",
      "* Warning * Setting OMP_NUM_THREADS to 8.\n",
      "* Info * Reading basis set from file: /opt/anaconda3/envs/vlxenv/lib/python3.9/site-packages/veloxchem/basis/6-31G        \n",
      "                                                                                                                          \n",
      "                                              Molecular Basis (Atomic Basis)                                              \n",
      "                                             ================================                                             \n",
      "                                                                                                                          \n",
      "                               Basis: 6-31G                                                                               \n",
      "                                                                                                                          \n",
      "                               Atom Contracted GTOs           Primitive GTOs                                              \n",
      "                                                                                                                          \n",
      "                                O   (3S,2P)                   (10S,4P)                                                    \n",
      "                                H   (2S)                      (4S)                                                        \n",
      "                                                                                                                          \n",
      "                               Contracted Basis Functions : 13                                                            \n",
      "                               Primitive Basis Functions  : 30                                                            \n",
      "                                                                                                                          \n",
      "                                                                                                                          \n",
      "                                            Self Consistent Field Driver Setup                                            \n",
      "                                           ====================================                                           \n",
      "                                                                                                                          \n",
      "                   Wave Function Model             : Spin-Restricted Hartree-Fock                                         \n",
      "                   Initial Guess Model             : Superposition of Atomic Densities                                    \n",
      "                   Convergence Accelerator         : Two Level Direct Inversion of Iterative Subspace                     \n",
      "                   Max. Number of Iterations       : 50                                                                   \n",
      "                   Max. Number of Error Vectors    : 10                                                                   \n",
      "                   Convergence Threshold           : 1.0e-06                                                              \n",
      "                   ERI Screening Scheme            : Cauchy Schwarz + Density                                             \n",
      "                   ERI Screening Mode              : Dynamic                                                              \n",
      "                   ERI Screening Threshold         : 1.0e-12                                                              \n",
      "                   Linear Dependence Threshold     : 1.0e-06                                                              \n",
      "                                                                                                                          \n",
      "* Info * Nuclear repulsion energy: 4.9444403801 a.u.                                                                      \n",
      "                                                                                                                          \n",
      "* Info * Overlap matrix computed in 0.00 sec.                                                                             \n",
      "                                                                                                                          \n",
      "* Info * Kinetic energy matrix computed in 0.00 sec.                                                                      \n",
      "                                                                                                                          \n",
      "* Info * Nuclear potential matrix computed in 0.00 sec.                                                                   \n",
      "                                                                                                                          \n",
      "* Info * Orthogonalization matrix computed in 0.00 sec.                                                                   \n",
      "                                                                                                                          \n",
      "* Info * SAD initial guess computed in 0.00 sec.                                                                          \n",
      "                                                                                                                          \n",
      "* Info * Starting Reduced Basis SCF calculation...                                                                        \n",
      "* Info * ...done. SCF energy in reduced basis set: -75.641519996755 a.u. Time: 0.03 sec.                                  \n",
      "                                                                                                                          \n",
      "* Info * Overlap matrix computed in 0.00 sec.                                                                             \n",
      "                                                                                                                          \n",
      "* Info * Kinetic energy matrix computed in 0.00 sec.                                                                      \n",
      "                                                                                                                          \n",
      "* Info * Nuclear potential matrix computed in 0.00 sec.                                                                   \n",
      "                                                                                                                          \n",
      "* Info * Orthogonalization matrix computed in 0.00 sec.                                                                   \n",
      "                                                                                                                          \n",
      "                                                                                                                          \n",
      "               Iter. | Hartree-Fock Energy | Energy Change | Gradient Norm | Max. Gradient | Density Change               \n",
      "               --------------------------------------------------------------------------------------------               \n",
      "                  1       -75.641523271211    0.0000000000      0.00087825      0.00019340      0.00000000                \n",
      "                  2       -75.641525364813   -0.0000020936      0.00084045      0.00014743      0.00353953                \n",
      "                  3       -75.641525451665   -0.0000000869      0.00004595      0.00000631      0.00023152                \n",
      "                  4       -75.641525453425   -0.0000000018      0.00000898      0.00000138      0.00009522                \n",
      "                  5       -75.641525453439   -0.0000000000      0.00000040      0.00000012      0.00000630                \n",
      "                                                                                                                          \n",
      "               *** SCF converged in 5 iterations. Time: 0.03 sec.                                                         \n",
      "                                                                                                                          \n",
      "               Spin-Restricted Hartree-Fock:                                                                              \n",
      "               -----------------------------                                                                              \n",
      "               Total Energy                       :      -75.6415254534 a.u.                                              \n",
      "               Electronic Energy                  :      -80.5859658336 a.u.                                              \n",
      "               Nuclear Repulsion Energy           :        4.9444403801 a.u.                                              \n",
      "               ------------------------------------                                                                       \n",
      "               Gradient Norm                      :        0.0000003971 a.u.                                              \n",
      "                                                                                                                          \n",
      "                                                                                                                          \n",
      "               Ground State Information                                                                                   \n",
      "               ------------------------                                                                                   \n",
      "               Charge of Molecule            :  0.0                                                                       \n",
      "               Multiplicity (2S+1)           :  1.0                                                                       \n",
      "               Magnetic Quantum Number (M_S) :  0.0                                                                       \n",
      "                                                                                                                          \n",
      "                                                                                                                          \n",
      "                                                 Spin Restricted Orbitals                                                 \n",
      "                                                 ------------------------                                                 \n",
      "                                                                                                                          \n",
      "               Molecular Orbital No.   1:                                                                                 \n",
      "               --------------------------                                                                                 \n",
      "               Occupation: 2.000 Energy:  -20.66858 a.u.                                                                  \n",
      "               (   1 O   1s  :    -1.00)                                                                                  \n",
      "                                                                                                                          \n",
      "               Molecular Orbital No.   2:                                                                                 \n",
      "               --------------------------                                                                                 \n",
      "               Occupation: 2.000 Energy:   -1.20252 a.u.                                                                  \n",
      "               (   1 O   1s  :     0.23) (   1 O   2s  :    -0.53) (   1 O   3s  :    -0.54)                              \n",
      "                                                                                                                          \n",
      "               Molecular Orbital No.   3:                                                                                 \n",
      "               --------------------------                                                                                 \n",
      "               Occupation: 2.000 Energy:   -0.50810 a.u.                                                                  \n",
      "               (   1 O   1p+1:    -0.68) (   1 O   2p+1:    -0.47)                                                        \n",
      "                                                                                                                          \n",
      "               Molecular Orbital No.   4:                                                                                 \n",
      "               --------------------------                                                                                 \n",
      "               Occupation: 2.000 Energy:   -0.45244 a.u.                                                                  \n",
      "               (   1 O   1p-1:     0.45) (   1 O   2p-1:     0.36) (   2 H   1s  :     0.16)                              \n",
      "               (   2 H   2s  :     0.28) (   3 H   1s  :    -0.16) (   3 H   2s  :    -0.28)                              \n",
      "                                                                                                                          \n",
      "               Molecular Orbital No.   5:                                                                                 \n",
      "               --------------------------                                                                                 \n",
      "               Occupation: 2.000 Energy:   -0.43893 a.u.                                                                  \n",
      "               (   1 O   1p0 :     0.47) (   1 O   2p0 :     0.38) (   2 H   1s  :     0.15)                              \n",
      "               (   2 H   2s  :     0.27) (   3 H   1s  :     0.15) (   3 H   2s  :     0.27)                              \n",
      "                                                                                                                          \n",
      "               Molecular Orbital No.   6:                                                                                 \n",
      "               --------------------------                                                                                 \n",
      "               Occupation: 0.000 Energy:   -0.00093 a.u.                                                                  \n",
      "               (   1 O   3s  :    -0.23) (   1 O   1p0 :    -0.41) (   1 O   2p0 :    -0.43)                              \n",
      "               (   2 H   1s  :     0.17) (   2 H   2s  :     0.51) (   3 H   1s  :     0.17)                              \n",
      "               (   3 H   2s  :     0.51)                                                                                  \n",
      "                                                                                                                          \n",
      "               Molecular Orbital No.   7:                                                                                 \n",
      "               --------------------------                                                                                 \n",
      "               Occupation: 0.000 Energy:    0.03740 a.u.                                                                  \n",
      "               (   1 O   1p-1:    -0.43) (   1 O   2p-1:    -0.48) (   2 H   1s  :     0.18)                              \n",
      "               (   2 H   2s  :     0.53) (   3 H   1s  :    -0.18) (   3 H   2s  :    -0.53)                              \n",
      "                                                                                                                          \n",
      "               Molecular Orbital No.   8:                                                                                 \n",
      "               --------------------------                                                                                 \n",
      "               Occupation: 0.000 Energy:    0.93316 a.u.                                                                  \n",
      "               (   1 O   3s  :     0.25) (   1 O   1p0 :    -0.22) (   1 O   2p0 :     0.34)                              \n",
      "               (   2 H   1s  :     0.88) (   2 H   2s  :    -0.83) (   3 H   1s  :     0.88)                              \n",
      "               (   3 H   2s  :    -0.83)                                                                                  \n",
      "                                                                                                                          \n",
      "               Molecular Orbital No.   9:                                                                                 \n",
      "               --------------------------                                                                                 \n",
      "               Occupation: 0.000 Energy:    1.00695 a.u.                                                                  \n",
      "               (   1 O   1p-1:     0.21) (   1 O   2p-1:    -0.42) (   2 H   1s  :    -0.91)                              \n",
      "               (   2 H   2s  :     0.95) (   3 H   1s  :     0.91) (   3 H   2s  :    -0.95)                              \n",
      "                                                                                                                          \n",
      "               Molecular Orbital No.  10:                                                                                 \n",
      "               --------------------------                                                                                 \n",
      "               Occupation: 0.000 Energy:    1.15709 a.u.                                                                  \n",
      "               (   1 O   1p+1:     0.94) (   1 O   2p+1:    -1.06)                                                        \n",
      "                                                                                                                          \n"
     ]
    }
   ],
   "source": [
    "import veloxchem as vlx\n",
    "\n",
    "water_str='''\n",
    "O   0.0   0.0   0.0\n",
    "H   0.0   1.4   1.1\n",
    "H   0.0  -1.4   1.1\n",
    "'''\n",
    "water=vlx.Molecule.read_str(water_str)\n",
    "basis = vlx.MolecularBasis.read(water,\"6-31G\")\n",
    "scfdrv = vlx.ScfRestrictedDriver()\n",
    "hf_results = scfdrv.compute(water, basis)"
   ]
  },
  {
   "cell_type": "markdown",
   "metadata": {},
   "source": [
    "We then define an orbital space object to store the starting orbitals and define the type of CI expansion:"
   ]
  },
  {
   "cell_type": "code",
   "execution_count": 2,
   "metadata": {},
   "outputs": [
    {
     "name": "stdout",
     "output_type": "stream",
     "text": [
      "\n",
      "          Active space definition:\n",
      "          ------------------------\n",
      "Number of inactive (occupied) orbitals: 5\n",
      "Number of active orbitals:              0\n",
      "Number of virtual orbitals:             8\n",
      "\n",
      "    This is a restricted Hartree-Fock wavefunction\n"
     ]
    }
   ],
   "source": [
    "import multipsi as mtp\n",
    "\n",
    "space=mtp.OrbSpace(water,scfdrv.mol_orbs)\n",
    "print(space)"
   ]
  },
  {
   "cell_type": "markdown",
   "metadata": {},
   "source": [
    "By default, OrbSpace defines a restricted Hartree-Fock wavefunction (or restricted open-shell if the molecule is not a singlet). To define the full CI, we simply use the command `fci()`."
   ]
  },
  {
   "cell_type": "code",
   "execution_count": 3,
   "metadata": {},
   "outputs": [
    {
     "name": "stdout",
     "output_type": "stream",
     "text": [
      "\n",
      "          Active space definition:\n",
      "          ------------------------\n",
      "Number of inactive (occupied) orbitals: 0\n",
      "Number of active orbitals:              13\n",
      "Number of virtual orbitals:             0\n",
      "\n",
      "    This is a CASSCF wavefunction: CAS(10,13)\n"
     ]
    }
   ],
   "source": [
    "space.fci()\n",
    "print(space)"
   ]
  },
  {
   "cell_type": "markdown",
   "metadata": {},
   "source": [
    "As we can see, internally the code assumes a complete active space, but since all orbitals are included in the active space, it is indeed a full CI.\n",
    "\n",
    "We can also choose to freeze the core orbitals, as the correlation for core electrons tend to be constant and thus cancel out in relative energies."
   ]
  },
  {
   "cell_type": "code",
   "execution_count": 4,
   "metadata": {},
   "outputs": [
    {
     "name": "stdout",
     "output_type": "stream",
     "text": [
      "\n",
      "          Active space definition:\n",
      "          ------------------------\n",
      "Number of inactive (occupied) orbitals: 1\n",
      "Number of active orbitals:              12\n",
      "Number of virtual orbitals:             0\n",
      "\n",
      "    This is a CASSCF wavefunction: CAS(8,12)\n"
     ]
    }
   ],
   "source": [
    "space.fci(n_frozen=1)\n",
    "print(space)"
   ]
  },
  {
   "cell_type": "markdown",
   "metadata": {},
   "source": [
    "This reduces significantly the number of determinants and thus the calculation time. It is sometimes useful to know in advance the number of determinants to see if the calculation is even feasible. For this we can create a CIExpansion object:"
   ]
  },
  {
   "cell_type": "code",
   "execution_count": 5,
   "metadata": {},
   "outputs": [
    {
     "name": "stdout",
     "output_type": "stream",
     "text": [
      "\n",
      "          CI expansion:\n",
      "          -------------\n",
      "Number of determinants:      122760\n",
      "\n",
      "\n"
     ]
    }
   ],
   "source": [
    "print(mtp.CIExpansion(space))"
   ]
  },
  {
   "cell_type": "markdown",
   "metadata": {},
   "source": [
    "While expansions as large as hundreds of billions of determinants can in principle be run using a large enough supercomputer, any expansion beyond a billion will be very expensive.\n",
    "\n",
    "We can now run the configuration interaction:"
   ]
  },
  {
   "cell_type": "code",
   "execution_count": 6,
   "metadata": {
    "scrolled": true,
    "tags": [
     "output_scroll"
    ]
   },
   "outputs": [
    {
     "name": "stdout",
     "output_type": "stream",
     "text": [
      "                          Configuration Interaction Driver\n",
      "                         ==================================\n",
      "                                                                                                                          \n",
      "\n",
      "          Active space definition:\n",
      "          ------------------------\n",
      "Number of inactive (occupied) orbitals: 1\n",
      "Number of active orbitals:              12\n",
      "Number of virtual orbitals:             0\n",
      "\n",
      "    This is a CASSCF wavefunction: CAS(8,12)\n",
      "\n",
      "          CI expansion:\n",
      "          -------------\n",
      "Number of determinants:      122760\n",
      "\n",
      "\n",
      "        ╭────────────────────────────────────╮\n",
      "        │          Driver settings           │\n",
      "        ╰────────────────────────────────────╯\n",
      "          Max. iterations         : 40\n",
      "          Initial diagonalization : 200\n",
      "          Max subspace size       : 10\n",
      "          Convergence thresholds:\n",
      "            - Energy change       : 1e-08\n",
      "            - Residual square norm: 1e-08\n",
      "          Standard Davidson step\n",
      "                                                                                                                          \n",
      "                                                                                                                          \n",
      "        CI Iterations\n",
      "        -------------\n",
      "                                                                                                                          \n",
      "     Iter. | Average Energy | E. Change | Grad. Norm |   Time\n",
      "     ----------------------------------------------------------\n",
      "        1     -75.815781515     0.0e+00      2.6e-01   0:00:00\n",
      "        2     -75.894292645    -7.9e-02      2.9e-02   0:00:00\n",
      "        3     -75.901150187    -6.9e-03      3.5e-03   0:00:00\n",
      "        4     -75.901963550    -8.1e-04      6.4e-04   0:00:00\n",
      "        5     -75.902129581    -1.7e-04      8.7e-05   0:00:00\n",
      "        6     -75.902150481    -2.1e-05      1.4e-05   0:00:00\n",
      "        7     -75.902154386    -3.9e-06      2.6e-06   0:00:00\n",
      "        8     -75.902155098    -7.1e-07      4.9e-07   0:00:00\n",
      "        9     -75.902155213    -1.1e-07      9.5e-08   0:00:00\n",
      "       10     -75.902155237    -2.5e-08      1.5e-08   0:00:00\n",
      "       11     -75.902155242    -4.2e-09      3.1e-09   0:00:00\n",
      "                                                                                                                          \n",
      "** Convergence reached in 11 iterations\n",
      "                                                                                                                          \n",
      "        Final results\n",
      "        -------------\n",
      "                                                                                                                          \n",
      "                                                                                                                          \n",
      "* State 1\n",
      "- Energy: -75.90215524152751\n",
      "- S^2   : 0.00  (multiplicity = 1.0 )\n",
      "- Natural orbitals\n",
      "1.98787 1.98052 1.72827 1.69442 0.30428 0.26591 0.00035 0.00026 0.01798 0.00528 0.00509 0.00977\n"
     ]
    }
   ],
   "source": [
    "CIdrv=mtp.CIDriver()\n",
    "ci_results = CIdrv.compute(water,basis,space)"
   ]
  },
  {
   "cell_type": "markdown",
   "metadata": {},
   "source": [
    "If we are interested in several states and not just the ground state, we simply provide the number of states to the compute function:"
   ]
  },
  {
   "cell_type": "code",
   "execution_count": 7,
   "metadata": {
    "scrolled": true,
    "tags": [
     "output_scroll"
    ]
   },
   "outputs": [
    {
     "name": "stdout",
     "output_type": "stream",
     "text": [
      "                          Configuration Interaction Driver\n",
      "                         ==================================\n",
      "                                                                                                                          \n",
      "\n",
      "          Active space definition:\n",
      "          ------------------------\n",
      "Number of inactive (occupied) orbitals: 1\n",
      "Number of active orbitals:              12\n",
      "Number of virtual orbitals:             0\n",
      "\n",
      "    This is a CASSCF wavefunction: CAS(8,12)\n",
      "\n",
      "          CI expansion:\n",
      "          -------------\n",
      "Number of determinants:      122760\n",
      "\n",
      "\n",
      "        ╭────────────────────────────────────╮\n",
      "        │          Driver settings           │\n",
      "        ╰────────────────────────────────────╯\n",
      "          Max. iterations         : 40\n",
      "          Initial diagonalization : 200\n",
      "          Max subspace size       : 30\n",
      "          Convergence thresholds:\n",
      "            - Energy change       : 1e-08\n",
      "            - Residual square norm: 1e-08\n",
      "          Standard Davidson step\n",
      "                                                                                                                          \n",
      "                                                                                                                          \n",
      "        CI Iterations\n",
      "        -------------\n",
      "                                                                                                                          \n",
      "     Iter. | Average Energy | E. Change | Grad. Norm |   Time\n",
      "     ----------------------------------------------------------\n",
      "        1     -75.769165226     0.0e+00      2.6e-01   0:00:00\n",
      "        2     -75.850094458    -8.3e-02      3.2e-02   0:00:00\n",
      "        3     -75.857867208    -8.5e-03      3.7e-03   0:00:00\n",
      "        4     -75.858732659    -9.6e-04      7.6e-04   0:00:00\n",
      "        5     -75.858903324    -1.9e-04      1.4e-04   0:00:00\n",
      "        6     -75.858929884    -3.2e-05      2.6e-05   0:00:00\n",
      "        7     -75.858935632    -7.0e-06      6.3e-06   0:00:00\n",
      "        8     -75.858937230    -2.2e-06      2.3e-06   0:00:00\n",
      "        9     -75.858937671    -7.4e-07      8.9e-07   0:00:00\n",
      "       10     -75.858937816    -2.7e-07      2.4e-07   0:00:00\n",
      "       11     -75.858937853    -8.3e-08      8.5e-08   0:00:00\n",
      "       12     -75.858937864    -2.9e-08      3.0e-08   0:00:00\n",
      "       13     -75.858937868    -8.9e-09      7.3e-09   0:00:00\n",
      "                                                                                                                          \n",
      "** Convergence reached in 13 iterations\n",
      "                                                                                                                          \n",
      "        Final results\n",
      "        -------------\n",
      "                                                                                                                          \n",
      "                                                                                                                          \n",
      "* State 1\n",
      "- Energy: -75.9021552424584\n",
      "- S^2   : 0.00  (multiplicity = 1.0 )\n",
      "- Natural orbitals\n",
      "1.98787 1.98052 1.72828 1.69443 0.30427 0.26590 0.00035 0.00026 0.01798 0.00528 0.00509 0.00977\n",
      "                                                                                                                          \n",
      "* State 2\n",
      "- Energy: -75.84903068223858\n",
      "- S^2   : 0.00  (multiplicity = 1.0 )\n",
      "- Natural orbitals\n",
      "1.98897 0.99427 1.68096 1.95900 1.00328 0.33528 0.00093 0.00022 0.00674 0.01568 0.00573 0.00894\n",
      "                                                                                                                          \n",
      "* State 3\n",
      "- Energy: -75.82562767830402\n",
      "- S^2   : 0.00  (multiplicity = 1.0 )\n",
      "- Natural orbitals\n",
      "1.98928 0.99437 1.94571 1.62697 0.40629 1.00029 0.00027 0.00075 0.00666 0.00601 0.01415 0.00925\n"
     ]
    }
   ],
   "source": [
    "ci_results = CIdrv.compute(water,basis,space, n_states = 3) #We want 3 states now"
   ]
  },
  {
   "cell_type": "markdown",
   "metadata": {},
   "source": [
    "At the end of the calculation, the CI Driver prints a few informations, but the key results can also be accessed directly in python."
   ]
  },
  {
   "cell_type": "code",
   "execution_count": 8,
   "metadata": {},
   "outputs": [
    {
     "name": "stdout",
     "output_type": "stream",
     "text": [
      "Return dictionary: {'orbital_space': <multipsi.OrbSpace.OrbSpace object at 0x17fdc0370>, 'converged': True, 'n_iterations': 13, 'energies': array([-75.90215524, -75.84903068, -75.82562768]), 'ci_vectors': [<multipsi.CIVector.CIVector object at 0x18a6186a0>, <multipsi.CIVector.CIVector object at 0x111d4fa00>, <multipsi.CIVector.CIVector object at 0x18a618d00>]}\n",
      "\n",
      "Ground state energy: -75.9021552424584\n",
      "Array of all state energies: [-75.9021552424584, -75.84903068223858, -75.82562767830402]\n",
      "\n",
      "Ground state natural orbitals occupation numbers: [1.98787204e+00 1.98051728e+00 1.72827832e+00 1.69442749e+00\n",
      " 3.04273735e-01 2.65895102e-01 1.79768537e-02 9.76908009e-03\n",
      " 5.28474000e-03 5.09315765e-03 3.50038350e-04 2.62162451e-04]\n"
     ]
    }
   ],
   "source": [
    "print(\"Return dictionary:\",ci_results)\n",
    "print()\n",
    "print(\"Ground state energy:\",CIdrv.get_energy(0)) #Get the energy of a specific state, here state number 0\n",
    "print(\"Array of all state energies:\",CIdrv.get_energies()) #Get a python list of energies\n",
    "print()\n",
    "print(\"Ground state natural orbitals occupation numbers:\",CIdrv.get_natural_occupations(0))"
   ]
  },
  {
   "cell_type": "markdown",
   "metadata": {},
   "source": [
    "## Truncated CI"
   ]
  },
  {
   "cell_type": "markdown",
   "metadata": {},
   "source": [
    "To define a truncated CI, one simply needs to define the truncated expansion in the OrbSpace object.\n",
    "\n",
    "CIS and CISD expansions have a specific command, and higher order truncations can be done by using `CI(n)` with n the excitation order."
   ]
  },
  {
   "cell_type": "code",
   "execution_count": 9,
   "metadata": {
    "scrolled": true,
    "tags": [
     "output_scroll"
    ]
   },
   "outputs": [
    {
     "name": "stdout",
     "output_type": "stream",
     "text": [
      "                          Configuration Interaction Driver\n",
      "                         ==================================\n",
      "                                                                                                                          \n",
      "\n",
      "          Active space definition:\n",
      "          ------------------------\n",
      "Number of inactive (occupied) orbitals: 1\n",
      "Number of active orbitals:              12\n",
      "Number of virtual orbitals:             0\n",
      "\n",
      "    This is a GASSCF wavefunction\n",
      "\n",
      "         Cumulated   Min cumulated    Max cumulated \n",
      " Space    orbitals      occupation       occupation\n",
      "     1           4               6                8\n",
      "     2          12               8                8\n",
      "\n",
      "\n",
      "          CI expansion:\n",
      "          -------------\n",
      "Number of determinants:      729\n",
      "\n",
      "\n",
      "        ╭────────────────────────────────────╮\n",
      "        │          Driver settings           │\n",
      "        ╰────────────────────────────────────╯\n",
      "          Max. iterations         : 40\n",
      "          Initial diagonalization : 200\n",
      "          Max subspace size       : 10\n",
      "          Convergence thresholds:\n",
      "            - Energy change       : 1e-08\n",
      "            - Residual square norm: 1e-08\n",
      "          Standard Davidson step\n",
      "                                                                                                                          \n",
      "                                                                                                                          \n",
      "        CI Iterations\n",
      "        -------------\n",
      "                                                                                                                          \n",
      "     Iter. | Average Energy | E. Change | Grad. Norm |   Time\n",
      "     ----------------------------------------------------------\n",
      "        1     -75.811173597     0.0e+00      1.6e-01   0:00:00\n",
      "        2     -75.856674958    -4.6e-02      6.9e-03   0:00:00\n",
      "        3     -75.860829076    -4.2e-03      2.4e-04   0:00:00\n",
      "        4     -75.860924620    -9.6e-05      5.4e-06   0:00:00\n",
      "        5     -75.860927029    -2.4e-06      1.7e-07   0:00:00\n",
      "        6     -75.860927094    -6.5e-08      5.3e-09   0:00:00\n",
      "        7     -75.860927097    -2.3e-09      1.2e-10   0:00:00\n",
      "                                                                                                                          \n",
      "** Convergence reached in 7 iterations\n",
      "                                                                                                                          \n",
      "        Final results\n",
      "        -------------\n",
      "                                                                                                                          \n",
      "                                                                                                                          \n",
      "* State 1\n",
      "- Energy: -75.86092709655213\n",
      "- S^2   : -0.00  (multiplicity = 1.0 )\n",
      "- Natural orbitals\n",
      "1.99082 1.98675 1.83937 1.82537 0.17488 0.15640 0.00028 0.00024 0.01214 0.00338 0.00336 0.00702\n"
     ]
    }
   ],
   "source": [
    "space=mtp.OrbSpace(water,scfdrv.mol_orbs)\n",
    "space.cisd(n_frozen=1) #Equivalent to space.ci(2,n_frozen=1)\n",
    "\n",
    "ci_results = CIdrv.compute(water,basis,space)"
   ]
  },
  {
   "cell_type": "code",
   "execution_count": null,
   "metadata": {},
   "outputs": [],
   "source": []
  }
 ],
 "metadata": {
  "kernelspec": {
   "display_name": "Python 3 (ipykernel)",
   "language": "python",
   "name": "python3"
  },
  "language_info": {
   "codemirror_mode": {
    "name": "ipython",
    "version": 3
   },
   "file_extension": ".py",
   "mimetype": "text/x-python",
   "name": "python",
   "nbconvert_exporter": "python",
   "pygments_lexer": "ipython3",
   "version": "3.9.13"
  },
  "widgets": {
   "application/vnd.jupyter.widget-state+json": {
    "state": {},
    "version_major": 2,
    "version_minor": 0
   }
  }
 },
 "nbformat": 4,
 "nbformat_minor": 4
}
